{
 "cells": [
  {
   "cell_type": "markdown",
   "metadata": {},
   "source": [
    "Lab Exercise 3\n",
    "    Write a function in Python with a string such that it accepts a parameter- “stringsplit”. This encoded string will contain your name, domain name and register number. You can separate the values in the string by any number of underscores. [The string should not contain any other underscore symbols in your name, domain name and register number]. The function should return a Python dictionary with your name, domain name and register number.\n",
    "    For example, if the input would be \" Aaron___Googleplaystore____2347201”. Then the function should return the output as follows:\n",
    "{ \"name\": \" Aaron \",\n",
    "\"Domain_name\": \" Googleplaystore \",\n",
    "\"Regno\": \"2347201\" }\n"
   ]
  },
  {
   "cell_type": "code",
   "execution_count": 5,
   "metadata": {},
   "outputs": [
    {
     "name": "stdout",
     "output_type": "stream",
     "text": [
      "{'Name': 'Rajendran', 'Domain_name': 'Multimedia', 'Regno': '2347248'}\n"
     ]
    }
   ],
   "source": [
    "def string_split(stringsplit):\n",
    "  Name = \"\"\n",
    "  domain_name = \"\"\n",
    "  regno = \"\"\n",
    "\n",
    "  parts = stringsplit.split(\"_\")\n",
    "\n",
    "  for part in parts:\n",
    "    if part != \"\":\n",
    "      if Name == \"\":\n",
    "        Name = part\n",
    "      elif domain_name == \"\":\n",
    "        domain_name = part\n",
    "      elif regno == \"\":\n",
    "        regno = part\n",
    "\n",
    "  dict = {\n",
    "      \"Name\": Name,\n",
    "      \"Domain_name\": domain_name,\n",
    "      \"Regno\": regno,\n",
    "  }\n",
    "  return dict   \n",
    "\n",
    "stringsplit = str(input(\"Enter the string: \"))\n",
    "\n",
    "dict = string_split(stringsplit)\n",
    "\n",
    "print(dict)"
   ]
  },
  {
   "cell_type": "markdown",
   "metadata": {},
   "source": [
    "Lab Exercise 4\n",
    "Write a Python program to implement the object-oriented concepts of multiple, Multilevel and Hierarchical Inheritances using your domain applications.\n"
   ]
  },
  {
   "cell_type": "code",
   "execution_count": 9,
   "metadata": {},
   "outputs": [
    {
     "name": "stdout",
     "output_type": "stream",
     "text": [
      "Menu 1:\n",
      "App Name: Spotify\n",
      "Version: 3.0.0\n",
      "File Name: Song_1\n",
      "Navigation Bar Item1 :\n",
      "App Name: Amazon\n",
      "Version: 2.1.5\n",
      "File Name: Item_1\n",
      "Duration: [<__main__.Menu object at 0x106c82fa0>, <__main__.Menu object at 0x106a8b250>]\n",
      "Position 1:\n",
      "App Name: Netflix\n",
      "Version: 12.2.1\n",
      "File Name: episode_1\n",
      "Duration: 50:01\n",
      "Space: [<__main__.NavBar object at 0x106a8b130>]\n"
     ]
    }
   ],
   "source": [
    "class Menu:\n",
    "\n",
    "\n",
    "  def __init__(self, app_name, version, file_name):\n",
    "    self.app_name = app_name\n",
    "    self.version = version\n",
    "    self.file_name = file_name\n",
    "\n",
    "  def get_app_name(self):\n",
    "    return self.app_name\n",
    "\n",
    "  def get_version(self):\n",
    "    return self.version\n",
    "\n",
    "  def get_file_name(self):\n",
    "    return self.file_name\n",
    "\n",
    "class NavBar(Menu):\n",
    " \n",
    "  def __init__(self, app_name, version, file_name, duration):\n",
    "    super().__init__(app_name, version, file_name)\n",
    "    self.duration = duration\n",
    "\n",
    "  def get_duration(self):\n",
    "    return self.duration\n",
    "\n",
    "class Position(NavBar):\n",
    "  def __init__(self, app_name, version, file_name, duration, space):\n",
    "    super().__init__(app_name, version, file_name, duration)\n",
    "    self.space = space\n",
    "\n",
    "  def get_space(self):  \n",
    "    return self.space\n",
    "\n",
    "def main():\n",
    "  \n",
    "  menu1=  Menu(\"Spotify\", \"3.0.0\", \"Song_1\")\n",
    "  menu2=  Menu(\"Youtube\", \"24.1.0\", \"Video_1\")\n",
    "\n",
    "  navbar1 =  NavBar(\"Amazon\",\"2.1.5\",\"Item_1\",[menu1,menu2])\n",
    "  position1 = Position(\"Netflix\",\"12.2.1\",\"episode_1\",\"50:01\",[navbar1])\n",
    "\n",
    "  print(\"Menu 1:\")\n",
    "  print(\"App Name:\", menu1.get_app_name())\n",
    "  print(\"Version:\", menu1.get_version())\n",
    "  print(\"File Name:\", menu1.get_file_name())\n",
    "\n",
    "  print(\"Navigation Bar Item1 :\")\n",
    "  print(\"App Name:\", navbar1.get_app_name())\n",
    "  print(\"Version:\", navbar1.get_version())\n",
    "  print(\"File Name:\", navbar1.get_file_name())\n",
    "  print(\"Duration:\", navbar1.get_duration())\n",
    "\n",
    "  print(\"Position 1:\")\n",
    "  print(\"App Name:\", position1.get_app_name())\n",
    "  print(\"Version:\", position1.get_version())\n",
    "  print(\"File Name:\", position1.get_file_name())\n",
    "  print(\"Duration:\", position1.get_duration())\n",
    "  print(\"Space:\", position1.get_space())\n",
    "\n",
    "if __name__== \"__main__\":\n",
    "  main()"
   ]
  }
 ],
 "metadata": {
  "kernelspec": {
   "display_name": "Python 3",
   "language": "python",
   "name": "python3"
  },
  "language_info": {
   "codemirror_mode": {
    "name": "ipython",
    "version": 3
   },
   "file_extension": ".py",
   "mimetype": "text/x-python",
   "name": "python",
   "nbconvert_exporter": "python",
   "pygments_lexer": "ipython3",
   "version": "3.9.6"
  },
  "orig_nbformat": 4
 },
 "nbformat": 4,
 "nbformat_minor": 2
}
